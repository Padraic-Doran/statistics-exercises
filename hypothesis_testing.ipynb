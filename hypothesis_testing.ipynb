{
 "cells": [
  {
   "cell_type": "code",
   "execution_count": 22,
   "metadata": {},
   "outputs": [],
   "source": [
    "%matplotlib inline\n",
    "import numpy as np\n",
    "import pandas as pd\n",
    "import matplotlib.pyplot as plt\n",
    "from env import user, host, password\n",
    "from scipy import stats\n",
    "import csv\n",
    "\n",
    "np.random.seed(29)\n",
    "\n",
    "\n",
    "\n"
   ]
  },
  {
   "cell_type": "markdown",
   "metadata": {},
   "source": [
    "# Have click rates increased post redseign? (Is redsign good?)"
   ]
  },
  {
   "cell_type": "markdown",
   "metadata": {},
   "source": [
    "Null hypothesis: Click rates have not increased since redesign\n",
    "\n",
    "Alternative hypothesis: The click rate rate has changed (positive -- good, negative -- bad)\n",
    "\n",
    "True Positive: Null hypothesis rejected. Click rate has changed (Positive, Negative)\n",
    "\n",
    "Type I Error: Click rate change has not changed, but we decide that is has. \n",
    "\n",
    "True Negative: Null hypothesis not rejected. Click rate has not changed.\n",
    "\n",
    "Type II Error: Click rate has changed, but we determine that is has not. "
   ]
  },
  {
   "cell_type": "markdown",
   "metadata": {},
   "source": [
    "\n",
    "# Is our television ad driving more sales?"
   ]
  },
  {
   "cell_type": "markdown",
   "metadata": {},
   "source": [
    "Null Hypothesis: Sales have not increased due to TV ad.\n",
    "\n",
    "Alternative Hypothesis: Sales have changed.\n",
    "\n",
    "True Positive: Ads have had a positive affect on sales.\n",
    "\n",
    "True Negative: Sales have not changed (increased) due to TV ad.\n",
    "\n",
    "Type 1 Error: Sales indicate that the ad has had positive affect when it has not.\n",
    "\n",
    "Type 2 Error: Results indicate that the ad has not had a positive effect on sales, when it has. "
   ]
  },
  {
   "cell_type": "markdown",
   "metadata": {},
   "source": [
    "# Has the network latency gone up since we switched internet service providers?"
   ]
  },
  {
   "cell_type": "markdown",
   "metadata": {},
   "source": [
    "Null hypothesis: The change of internet service provider has had no effect on latency.\n",
    "\n",
    "Alternative hypothesis: The change of internet service provider has increased our latency.\n",
    "\n",
    "True Positive: Change of provider increased latency.\n",
    "\n",
    "True Negative: No proof that change of provider had the effect of increasing latency.\n",
    "\n",
    "Type1 Error: Results say that change of ISP increased latency while in reality it did not.\n",
    "\n",
    "Type2 Error: Results say that change of ISP had no affect on latency while in reality it did."
   ]
  },
  {
   "cell_type": "markdown",
   "metadata": {},
   "source": [
    "# Ace Realty wants to determine whether the average time it takes to sell homes is different for its two offices. \n",
    "# A sample of 40 sales from office #1 revealed a mean of 90 days and a standard deviation of 15 days. \n",
    "# A sample of 50 sales from office #2 revealed a mean of 100 days and a standard deviation of 20 days. \n",
    "# Use a .05 level of significance."
   ]
  },
  {
   "cell_type": "code",
   "execution_count": 13,
   "metadata": {},
   "outputs": [
    {
     "data": {
      "text/plain": [
       "Ttest_indResult(statistic=-0.9818269584843405, pvalue=0.32887677054120024)"
      ]
     },
     "execution_count": 13,
     "metadata": {},
     "output_type": "execute_result"
    }
   ],
   "source": [
    "sample_1 = stats.norm(90, 15).rvs(40)\n",
    "sample_2 = stats.norm(100, 20).rvs(50)\n",
    "\n",
    "stats.ttest_ind(sample_1,sample_2)\n",
    "\n",
    "# Average time is different, p-value of 0.0015"
   ]
  },
  {
   "cell_type": "code",
   "execution_count": 14,
   "metadata": {},
   "outputs": [],
   "source": [
    "from pydataset import data\n",
    "\n",
    "data = data('mpg')\n",
    "\n",
    "df = pd.DataFrame(data)\n",
    "\n",
    "df2 = df.assign(average_gas = (df.cty + df.hwy)/2)\n",
    "Gas_1999 = df2[df2.year == 1999].average_gas\n",
    "Gas_2008 = df2[df2.year == 2008].average_gas\n",
    "\n",
    "stats.ttest_ind(Gas_1999, Gas_2008)\n",
    "\n",
    "compact = df2[df2['class'] == 'compact'].average_gas\n",
    "not_compact = df2[df2['class'] != 'compact'].average_gas\n",
    "not_compact\n",
    "\n",
    "compact_test = stats.ttest_ind(compact, not_compact)"
   ]
  },
  {
   "cell_type": "code",
   "execution_count": 42,
   "metadata": {},
   "outputs": [
    {
     "data": {
      "text/plain": [
       "(-0.7985239689348551, 4.737914890205637e-53)"
      ]
     },
     "execution_count": 42,
     "metadata": {},
     "output_type": "execute_result"
    }
   ],
   "source": [
    "x = data.displ\n",
    "y = data.cty\n",
    "\n",
    "stats.pearsonr(x,y)"
   ]
  },
  {
   "cell_type": "markdown",
   "metadata": {},
   "source": [
    "# Use the telco_churn data. Does tenure correlate with monthly charges? Total charges? What happens if you control for phone and internet service?\n",
    "\n",
    "\n"
   ]
  },
  {
   "cell_type": "code",
   "execution_count": 15,
   "metadata": {},
   "outputs": [
    {
     "data": {
      "text/plain": [
       "(0.24789985628615013, 4.0940449915016345e-99)"
      ]
     },
     "execution_count": 15,
     "metadata": {},
     "output_type": "execute_result"
    }
   ],
   "source": [
    "def get_db_url(username, hostname, password, db_name):\n",
    "    return f'mysql+pymysql://{username}:{password}@{hostname}/{db_name}'\n",
    "\n",
    "query = '''\n",
    "    select tenure, monthly_charges from customers\n",
    "'''\n",
    "\n",
    "url = get_db_url(user,host,password,'telco_churn')\n",
    "charges = pd.read_sql(query,url)\n",
    "x = charges.tenure\n",
    "y = charges.monthly_charges\n",
    "\n",
    "stats.pearsonr(x,y)"
   ]
  },
  {
   "cell_type": "markdown",
   "metadata": {},
   "source": [
    "# Total charges?\n"
   ]
  },
  {
   "cell_type": "code",
   "execution_count": 16,
   "metadata": {},
   "outputs": [
    {
     "data": {
      "text/plain": [
       "(0.8264581130661657, 0.0)"
      ]
     },
     "execution_count": 16,
     "metadata": {},
     "output_type": "execute_result"
    }
   ],
   "source": [
    "\n",
    "\n",
    "charges = pd.read_excel('telco_churn.xlsx', index_col=0)\n",
    "\n",
    "charges\n",
    "charges.dtypes\n",
    "charges.dtypes\n",
    "charges.total_charges.fillna(0, inplace = True)\n",
    "charges.Tenure_2.fillna(0, inplace = True)\n",
    "charges[charges.total_charges.isnull() == True]\n",
    "\n",
    "x = charges.Tenure_2\n",
    "\n",
    "y = charges.total_charges\n",
    "\n",
    "\n",
    "stats.pearsonr(x, y)\n"
   ]
  },
  {
   "cell_type": "code",
   "execution_count": 17,
   "metadata": {},
   "outputs": [
    {
     "name": "stderr",
     "output_type": "stream",
     "text": [
      "/usr/local/anaconda3/lib/python3.7/site-packages/pymysql/cursors.py:170: Warning: (1292, \"Incorrect date value: '9999%' for column 'to_date' at row 1\")\n",
      "  result = self._query(query)\n"
     ]
    }
   ],
   "source": [
    "def get_db_url(username, hostname, password, db_name):\n",
    "    return f'mysql+pymysql://{username}:{password}@{hostname}/{db_name}'\n",
    "\n",
    "url = get_db_url(user, host, password, 'employees')\n",
    "query = '''\n",
    "select datediff(curdate(),e.hire_date) as tenure,\n",
    "    salary\n",
    "    from employees as e\n",
    "    join salaries as s \n",
    "    using(emp_no)\n",
    "    where s.to_date like \"9999%%\";\n",
    "        '''\n",
    "salary_ten = pd.read_sql(query,url)"
   ]
  },
  {
   "cell_type": "code",
   "execution_count": 19,
   "metadata": {},
   "outputs": [
    {
     "data": {
      "text/plain": [
       "(0.3064625613186075, 0.0)"
      ]
     },
     "execution_count": 19,
     "metadata": {},
     "output_type": "execute_result"
    }
   ],
   "source": [
    "salary_ten['tenure'] = salary_ten['tenure'] - salary_ten['tenure'].min()\n",
    "\n",
    "stats.pearsonr(salary_ten['tenure'],salary_ten['salary']) #Yes, they're correlated\n"
   ]
  },
  {
   "cell_type": "code",
   "execution_count": 21,
   "metadata": {},
   "outputs": [
    {
     "data": {
      "text/plain": [
       "(0.2665989299136621, 0.0)"
      ]
     },
     "execution_count": 21,
     "metadata": {},
     "output_type": "execute_result"
    }
   ],
   "source": [
    "def get_db_url(username, hostname, password, db_name):\n",
    "    return f'mysql+pymysql://{username}:{password}@{hostname}/{db_name}'\n",
    "\n",
    "url = get_db_url(user, host, password, 'employees')\n",
    "\n",
    "\n",
    "\n",
    "query = '''\n",
    "select datediff(curdate(),e.hire_date) as tenure,\n",
    "    count(title) as titles\n",
    "    from employees as e\n",
    "    join titles as t \n",
    "    using(emp_no)\n",
    "    group by emp_no;\n",
    "    '''\n",
    "titles_by_tenure = pd.read_sql(query,url)\n",
    "titles_by_tenure['tenure'] = titles_by_tenure['tenure'] - titles_by_tenure['tenure'].min()\n",
    "\n",
    "stats.pearsonr(titles_by_tenure['tenure'],titles_by_tenure['titles']) # Yes, they're correlated"
   ]
  },
  {
   "cell_type": "code",
   "execution_count": 33,
   "metadata": {},
   "outputs": [],
   "source": [
    "# def get_db_url(username, hostname, password, db_name):\n",
    "#     return f'mysql+pymysql://{username}:{password}@{hostname}/{db_name}'\n",
    "    \n",
    "# query = '''SELECT\n",
    "#     e.*,\n",
    "#     datediff('2002-09-30', e.hire_date) tenure,\n",
    "#     t.title,\n",
    "#     t.from_date title_from,\n",
    "#     datediff('2002-09-30', t.from_date) t_tenure,\n",
    "#     et.titles,\n",
    "#     s.salary,\n",
    "#     s.from_date salary_from,\n",
    "#     datediff('2002-09-30', s.from_date) s_tenure,\n",
    "#     es.salaries\n",
    "# FROM\n",
    "#     employees e\n",
    "# JOIN \n",
    "#     titles t \n",
    "#     USING(emp_no)\n",
    "# JOIN \n",
    "#     salaries s \n",
    "#     USING(emp_no)\n",
    "# JOIN\n",
    "#     (SELECT \n",
    "#         emp_no,\n",
    "#         count(*) titles\n",
    "#     FROM\n",
    "#         titles\n",
    "#     GROUP BY\n",
    "#         emp_no) et\n",
    "#     USING(emp_no)\n",
    "# JOIN\n",
    "#     (SELECT \n",
    "#         emp_no,\n",
    "#         count(*) salaries\n",
    "#     FROM\n",
    "#         salaries\n",
    "#     GROUP BY\n",
    "#         emp_no) es\n",
    "#     USING(emp_no)\n",
    "# WHERE\n",
    "#     s.to_date > '2002-09-30'\n",
    "#     AND t.to_date > '2002-09-30';\n",
    "# '''\n",
    "# url = get_db_url(user,host,password,'employees')\n",
    "# employees = pd.read_sql(query,url)\n",
    "\n",
    "# print(employees.shape)\n",
    "# print(employees.dtypes)\n",
    "# employees.sample(5)\n",
    "\n",
    "\n",
    "\n",
    "\n"
   ]
  },
  {
   "cell_type": "code",
   "execution_count": 26,
   "metadata": {},
   "outputs": [
    {
     "data": {
      "text/plain": [
       "(0.5352302262650254, 9.89409632221453e-15)"
      ]
     },
     "execution_count": 26,
     "metadata": {},
     "output_type": "execute_result"
    }
   ],
   "source": [
    "from pydataset import data\n",
    "\n",
    "sleep = data('sleepstudy')\n",
    "stats.pearsonr(sleep.Reaction,sleep.Days)"
   ]
  },
  {
   "cell_type": "code",
   "execution_count": 23,
   "metadata": {},
   "outputs": [
    {
     "data": {
      "text/plain": [
       "(36.65264142122487, 1.4116760526193828e-09, 1, array([[34.5, 34.5],\n",
       "        [15.5, 15.5]]))"
      ]
     },
     "execution_count": 23,
     "metadata": {},
     "output_type": "execute_result"
    }
   ],
   "source": [
    "%matplotlib inline\n",
    "import numpy as np\n",
    "import pandas as pd\n",
    "import matplotlib.pyplot as plt\n",
    "from env import user, host, password\n",
    "from scipy import stats\n",
    "import csv\n",
    "\n",
    "np.random.seed(29)\n",
    "\n",
    "\n",
    "\n",
    "\n",
    "index = ['Macbook', 'Not Macbook']\n",
    "columns = ['Codeup', 'Not Codeup']\n",
    "macbooks = pd.DataFrame([[49,20], [1, 30]], index=index, columns=columns)\n",
    "stats.chi2_contingency(macbooks)\n",
    "\n"
   ]
  },
  {
   "cell_type": "code",
   "execution_count": 27,
   "metadata": {},
   "outputs": [
    {
     "data": {
      "text/plain": [
       "(246.91908570197074,\n",
       " 7.163203875453598e-10,\n",
       " 126,\n",
       " array([[ 0.38461538,  0.40598291,  0.79059829,  0.53418803,  0.19230769,\n",
       "          0.2991453 ,  0.17094017,  0.08547009,  0.06410256,  0.08547009,\n",
       "          0.27777778,  0.10683761,  0.2991453 ,  0.72649573,  0.57692308],\n",
       "        [ 0.15384615,  0.16239316,  0.31623932,  0.21367521,  0.07692308,\n",
       "          0.11965812,  0.06837607,  0.03418803,  0.02564103,  0.03418803,\n",
       "          0.11111111,  0.04273504,  0.11965812,  0.29059829,  0.23076923],\n",
       "        [ 6.38461538,  6.73931624, 13.12393162,  8.86752137,  3.19230769,\n",
       "          4.96581197,  2.83760684,  1.41880342,  1.06410256,  1.41880342,\n",
       "          4.61111111,  1.77350427,  4.96581197, 12.05982906,  9.57692308],\n",
       "        [ 3.        ,  3.16666667,  6.16666667,  4.16666667,  1.5       ,\n",
       "          2.33333333,  1.33333333,  0.66666667,  0.5       ,  0.66666667,\n",
       "          2.16666667,  0.83333333,  2.33333333,  5.66666667,  4.5       ],\n",
       "        [ 0.46153846,  0.48717949,  0.94871795,  0.64102564,  0.23076923,\n",
       "          0.35897436,  0.20512821,  0.1025641 ,  0.07692308,  0.1025641 ,\n",
       "          0.33333333,  0.12820513,  0.35897436,  0.87179487,  0.69230769],\n",
       "        [ 0.23076923,  0.24358974,  0.47435897,  0.32051282,  0.11538462,\n",
       "          0.17948718,  0.1025641 ,  0.05128205,  0.03846154,  0.05128205,\n",
       "          0.16666667,  0.06410256,  0.17948718,  0.43589744,  0.34615385],\n",
       "        [ 0.23076923,  0.24358974,  0.47435897,  0.32051282,  0.11538462,\n",
       "          0.17948718,  0.1025641 ,  0.05128205,  0.03846154,  0.05128205,\n",
       "          0.16666667,  0.06410256,  0.17948718,  0.43589744,  0.34615385],\n",
       "        [ 1.23076923,  1.2991453 ,  2.52991453,  1.70940171,  0.61538462,\n",
       "          0.95726496,  0.54700855,  0.27350427,  0.20512821,  0.27350427,\n",
       "          0.88888889,  0.34188034,  0.95726496,  2.32478632,  1.84615385],\n",
       "        [ 4.46153846,  4.70940171,  9.17094017,  6.1965812 ,  2.23076923,\n",
       "          3.47008547,  1.98290598,  0.99145299,  0.74358974,  0.99145299,\n",
       "          3.22222222,  1.23931624,  3.47008547,  8.42735043,  6.69230769],\n",
       "        [ 1.46153846,  1.54273504,  3.0042735 ,  2.02991453,  0.73076923,\n",
       "          1.13675214,  0.64957265,  0.32478632,  0.24358974,  0.32478632,\n",
       "          1.05555556,  0.40598291,  1.13675214,  2.76068376,  2.19230769]]))"
      ]
     },
     "execution_count": 27,
     "metadata": {},
     "output_type": "execute_result"
    }
   ],
   "source": [
    "# from pydataset import data\n",
    "\n",
    "# mpg = data('mpg')\n",
    "\n",
    "\n",
    "# stats.chi2_contingency(pd.crosstab(mpg.trans, mpg.manufacturer))\n",
    "# # Null: All manufacturers are equally likely to make each transmission type.\n",
    "# # Alt: All manufacturers are not equally likely to make each transmission type.\n",
    "# # p-value < 0.05, we reject the null hypothesis"
   ]
  },
  {
   "cell_type": "code",
   "execution_count": 28,
   "metadata": {},
   "outputs": [],
   "source": [
    "query = '''\n",
    "select gender, dept_name\n",
    "    from employees\n",
    "    join dept_emp as de using(emp_no)\n",
    "    join departments using(dept_no)\n",
    "    where de.to_date like \"9999%%\";\n",
    "    '''\n",
    "\n",
    "gender_vs_dept = pd.read_sql(query,url)"
   ]
  },
  {
   "cell_type": "code",
   "execution_count": 29,
   "metadata": {},
   "outputs": [
    {
     "data": {
      "text/plain": [
       "(0.3240332004060638,\n",
       " 0.5691938610810126,\n",
       " 1,\n",
       " array([[ 5893.2426013, 14969.7573987],\n",
       "        [ 8948.7573987, 22731.2426013]]))"
      ]
     },
     "execution_count": 29,
     "metadata": {},
     "output_type": "execute_result"
    }
   ],
   "source": [
    "# dept_filter = gender_vs_dept['dept_name'].apply(lambda x: x in ['Marketing', 'Sales'])\n",
    "# relevant = gender_vs_dept[dept_filter]\n",
    "# stats.chi2_contingency(pd.crosstab(relevant.gender, relevant.dept_name)) # No correlation, p-value is .57"
   ]
  },
  {
   "cell_type": "code",
   "execution_count": 32,
   "metadata": {},
   "outputs": [],
   "source": [
    "# %matplotlib inline\n",
    "# import numpy as np\n",
    "# import pandas as pd\n",
    "# import matplotlib.pyplot as plt\n",
    "# from env import user, host, password\n",
    "# from scipy import stats\n",
    "# import csv\n",
    "\n",
    "# np.random.seed(29)\n",
    "\n",
    "\n",
    "\n",
    "\n",
    "# query = '''\n",
    "# select gender, count(dm.emp_no) as m_count\n",
    "#     from employees\n",
    "#     left join dept_manager as dm using(emp_no)\n",
    "#     group by emp_no;'''\n",
    "\n",
    "# gender_vs_manager = pd.read_sql(query,url)"
   ]
  },
  {
   "cell_type": "code",
   "execution_count": 31,
   "metadata": {},
   "outputs": [
    {
     "ename": "NameError",
     "evalue": "name 'gender_vs_manager' is not defined",
     "output_type": "error",
     "traceback": [
      "\u001b[0;31m---------------------------------------------------------------------------\u001b[0m",
      "\u001b[0;31mNameError\u001b[0m                                 Traceback (most recent call last)",
      "\u001b[0;32m<ipython-input-31-4d91c6595bdb>\u001b[0m in \u001b[0;36m<module>\u001b[0;34m\u001b[0m\n\u001b[0;32m----> 1\u001b[0;31m \u001b[0mgender_vs_manager\u001b[0m\u001b[0;34m[\u001b[0m\u001b[0;34m'been_manager'\u001b[0m\u001b[0;34m]\u001b[0m \u001b[0;34m=\u001b[0m \u001b[0mgender_vs_manager\u001b[0m\u001b[0;34m[\u001b[0m\u001b[0;34m'm_count'\u001b[0m\u001b[0;34m]\u001b[0m \u001b[0;34m>\u001b[0m \u001b[0;36m0\u001b[0m\u001b[0;34m\u001b[0m\u001b[0;34m\u001b[0m\u001b[0m\n\u001b[0m\u001b[1;32m      2\u001b[0m \u001b[0;34m\u001b[0m\u001b[0m\n\u001b[1;32m      3\u001b[0m \u001b[0mstats\u001b[0m\u001b[0;34m.\u001b[0m\u001b[0mchi2_contingency\u001b[0m\u001b[0;34m(\u001b[0m\u001b[0mpd\u001b[0m\u001b[0;34m.\u001b[0m\u001b[0mcrosstab\u001b[0m\u001b[0;34m(\u001b[0m\u001b[0mgender_vs_manager\u001b[0m\u001b[0;34m.\u001b[0m\u001b[0mgender\u001b[0m\u001b[0;34m,\u001b[0m \u001b[0mgender_vs_manager\u001b[0m\u001b[0;34m.\u001b[0m\u001b[0mbeen_manager\u001b[0m\u001b[0;34m)\u001b[0m\u001b[0;34m)\u001b[0m \u001b[0;31m# No correlation, p-value is .23\u001b[0m\u001b[0;34m\u001b[0m\u001b[0;34m\u001b[0m\u001b[0m\n",
      "\u001b[0;31mNameError\u001b[0m: name 'gender_vs_manager' is not defined"
     ]
    }
   ],
   "source": [
    "# gender_vs_manager['been_manager'] = gender_vs_manager['m_count'] > 0\n",
    "\n",
    "# stats.chi2_contingency(pd.crosstab(gender_vs_manager.gender, gender_vs_manager.been_manager)) # No correlation, p-value is .23"
   ]
  },
  {
   "cell_type": "code",
   "execution_count": null,
   "metadata": {},
   "outputs": [],
   "source": []
  }
 ],
 "metadata": {
  "kernelspec": {
   "display_name": "Python 3",
   "language": "python",
   "name": "python3"
  },
  "language_info": {
   "codemirror_mode": {
    "name": "ipython",
    "version": 3
   },
   "file_extension": ".py",
   "mimetype": "text/x-python",
   "name": "python",
   "nbconvert_exporter": "python",
   "pygments_lexer": "ipython3",
   "version": "3.7.3"
  }
 },
 "nbformat": 4,
 "nbformat_minor": 2
}
