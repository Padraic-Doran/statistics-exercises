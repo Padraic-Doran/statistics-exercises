{
 "cells": [
  {
   "cell_type": "code",
   "execution_count": 39,
   "metadata": {},
   "outputs": [],
   "source": [
    "%matplotlib inline\n",
    "import numpy as np\n",
    "import pandas as pd\n",
    "np.random.seed(29)\n",
    "\n",
    "n_trials = nrows = 100\n",
    "n_dice = ncols = 2\n",
    "\n",
    "rolls = np.random.choice([1, 2, 3, 4, 5, 6], n_trials * n_dice).reshape(nrows, ncols)\n"
   ]
  },
  {
   "cell_type": "code",
   "execution_count": 9,
   "metadata": {},
   "outputs": [
    {
     "data": {
      "text/plain": [
       "0.166478"
      ]
     },
     "execution_count": 9,
     "metadata": {},
     "output_type": "execute_result"
    }
   ],
   "source": [
    "dice = pd.DataFrame(np.random.randint(1,7,(1000000,2)))\n",
    "doubles = (dice_sample[0] == dice_sample[1]).mean()\n",
    "doubles"
   ]
  },
  {
   "cell_type": "code",
   "execution_count": 11,
   "metadata": {},
   "outputs": [
    {
     "data": {
      "text/plain": [
       "0.636727"
      ]
     },
     "execution_count": 11,
     "metadata": {},
     "output_type": "execute_result"
    }
   ],
   "source": [
    "# If you flip 8 coins, what is the probability of getting exactly 3 heads? What is the probability of getting more than 3 heads?\n",
    "coins = pd.DataFrame(np.random.randint(0,2,(1000000,8)))\n",
    "p_three_heads = (coins.sum(axis=1) == 3).mean()\n",
    "p_over_three = (coins.sum(axis=1) > 3).mean()\n",
    "p_three_heads\n",
    "p_over_three"
   ]
  },
  {
   "cell_type": "code",
   "execution_count": 49,
   "metadata": {},
   "outputs": [],
   "source": [
    "# There are approximitely 3 web development cohorts for every 1 data science cohort at Codeup. \n",
    "# Assuming that Codeup randomly selects an alumni to put on a billboard, \n",
    "# what are the odds that the two billboards I drive past both have data science students on them?\n",
    "\n",
    "billboards = np.random.random((1000000,2))\n",
    "ptds = (billboards <= .25).prod(axis=1).mean()"
   ]
  },
  {
   "cell_type": "code",
   "execution_count": 21,
   "metadata": {},
   "outputs": [
    {
     "data": {
      "text/plain": [
       "array([[2.00564547, 3.73124484, 4.21252226, 2.41694939, 2.15664019],\n",
       "       [5.36554953, 3.0168553 , 2.06102869, 0.12233432, 1.61041578],\n",
       "       [2.13245144, 1.85176603, 3.56523704, 1.90291041, 2.95813478],\n",
       "       ...,\n",
       "       [2.46486368, 4.7027675 , 4.04151732, 2.24232134, 2.27922265],\n",
       "       [2.61778776, 3.23766193, 3.92227065, 3.59702167, 3.72050201],\n",
       "       [3.84737679, 3.14301532, 1.59853111, 3.51482654, 2.21233522]])"
      ]
     },
     "execution_count": 21,
     "metadata": {},
     "output_type": "execute_result"
    }
   ],
   "source": [
    "# Codeup students buy, on average, 3 poptart packages (+- 1.5) a day from the snack vending machine. \n",
    "# If on monday the machine is restocked with 17 poptart packages, \n",
    "# how likely is it that I will be able to buy some poptarts on Friday afternoon?\n",
    "\n",
    "poptarts = np.random.normal(3, 1.5,(1000000,5))\n",
    "poptarts\n",
    "# p_friday = (poptarts.sum(axis=1) <= 16).mean()\n",
    "# p_friday\n"
   ]
  },
  {
   "cell_type": "code",
   "execution_count": 26,
   "metadata": {},
   "outputs": [
    {
     "data": {
      "text/plain": [
       "array([184.13583953, 180.70178411, 174.60788019, ..., 179.32533864,\n",
       "       179.48643064, 171.2080089 ])"
      ]
     },
     "execution_count": 26,
     "metadata": {},
     "output_type": "execute_result"
    }
   ],
   "source": [
    "# Compare Heights\n",
    "\n",
    "# Men have an average height of 178 cm and standard deviation of 8cm.\n",
    "# Women have a mean of 170, sd = 6cm.\n",
    "# If a man and woman are chosen at random, P(woman taller than man)?\n",
    "\n",
    "men = np.random.normal(178, 8, 1000000)\n",
    "men\n",
    "# women = np.random.normal(170, 6, 1000000)\n",
    "# ptallerwoman = (women > men).mean()\n",
    "# ptallerwoman"
   ]
  },
  {
   "cell_type": "code",
   "execution_count": 75,
   "metadata": {},
   "outputs": [
    {
     "data": {
      "text/plain": [
       "0.8184"
      ]
     },
     "execution_count": 75,
     "metadata": {},
     "output_type": "execute_result"
    }
   ],
   "source": [
    "# When installing anaconda on a student's computer, there's a 1 in 250 chance \n",
    "# that the download is corrupted and the installation fails. \n",
    "\n",
    "# What are the odds that after having 50 students download anaconda, no one has an installation issue? 100 students?\n",
    "\n",
    "# What is the probability that we observe an installation issue within the first 150 students that download anaconda?\n",
    "\n",
    "# How likely is it that 450 students all download anaconda without an issue?\n",
    "\n",
    "fail = 1/250\n",
    "fail_fifty = (np.random.random((10000,50)) > fail).prod(axis = 1).mean()\n",
    "fail_100 = (np.random.random((10000, 100)) > fail).prod(axis=1).mean()\n",
    "fail_150 = 1 -(np.random.random((10000, 150)) > fail).prod(axis=1).mean()\n",
    "fail_450 = (np.random.random((10000, 450)) > fail).prod(axis=1).mean()\n",
    "\n",
    "fail_fifty"
   ]
  },
  {
   "cell_type": "code",
   "execution_count": 74,
   "metadata": {},
   "outputs": [
    {
     "data": {
      "text/plain": [
       "0.0283"
      ]
     },
     "execution_count": 74,
     "metadata": {},
     "output_type": "execute_result"
    }
   ],
   "source": [
    "# There's a 70% chance on any given day that there will be at least one food truck at Travis Park.\n",
    "# However, you haven't seen a food truck there in 3 days. How unlikely is this?\n",
    "\n",
    "# How likely is it that a food truck will show up sometime this week?\n",
    "\n",
    "three_days = (np.random.random((10000,3)) > .7).prod(axis=1).mean()\n",
    "three_days\n",
    "week = (np.random.random((10000,7)) <= .7).prod(axis=1).mean()\n",
    "week\n",
    "three_days"
   ]
  },
  {
   "cell_type": "code",
   "execution_count": 72,
   "metadata": {},
   "outputs": [
    {
     "data": {
      "text/plain": [
       "0.8864"
      ]
     },
     "execution_count": 72,
     "metadata": {},
     "output_type": "execute_result"
    }
   ],
   "source": [
    "# If 23 people are in the same room, what are the odds that two of them share a birthday? \n",
    "# What if it's 20 people? 40?\n",
    "import pandas as pd\n",
    "\n",
    "birthday_23 = pd.DataFrame(np.random.randint(0,365,(10_000,23)))\n",
    "share_birthday_23 = birthday_23.apply(lambda x: len(set(x)) != len(x),axis=1).mean()\n",
    "share_birthday_23\n",
    "birthday_20 = pd.DataFrame(np.random.randint(0,365,(10_000,20)))\n",
    "share_birthday_20 = birthday_20.apply(lambda x: len(set(x)) != len(x),axis=1).mean()\n",
    "share_birthday_20\n",
    "birthday_40 = pd.DataFrame(np.random.randint(0,365,(10_000,40)))\n",
    "share_birthday_40 = birthday_40.apply(lambda x: len(set(x)) != len(x),axis=1).mean()\n",
    "share_birthday_40"
   ]
  },
  {
   "cell_type": "code",
   "execution_count": null,
   "metadata": {},
   "outputs": [],
   "source": []
  }
 ],
 "metadata": {
  "kernelspec": {
   "display_name": "Python 3",
   "language": "python",
   "name": "python3"
  },
  "language_info": {
   "codemirror_mode": {
    "name": "ipython",
    "version": 3
   },
   "file_extension": ".py",
   "mimetype": "text/x-python",
   "name": "python",
   "nbconvert_exporter": "python",
   "pygments_lexer": "ipython3",
   "version": "3.7.3"
  }
 },
 "nbformat": 4,
 "nbformat_minor": 2
}
